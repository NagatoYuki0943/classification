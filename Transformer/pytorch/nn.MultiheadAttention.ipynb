{
 "cells": [
  {
   "cell_type": "code",
   "execution_count": 1,
   "metadata": {},
   "outputs": [],
   "source": [
    "import torch\n",
    "from torch import nn"
   ]
  },
  {
   "cell_type": "markdown",
   "metadata": {},
   "source": [
    "# 实例化nn.MultiheadAttention"
   ]
  },
  {
   "attachments": {},
   "cell_type": "markdown",
   "metadata": {},
   "source": [
    "\n",
    "> class\n",
    "> torch.nn.MultiheadAttention(embed_dim, num_heads, dropout=0.0, bias=True, add_bias_kv=False, add_zero_attn=False, kdim=None, vdim=None, batch_first=False, device=None, dtype=None)[source]\n",
    "\n",
    "Parameters:\n",
    "- embed_dim – Total dimension of the model.\n",
    "- num_heads – Number of parallel attention heads. Note that embed_dim will be split across num_heads (i.e. each head will have dimension embed_dim // num_heads).\n",
    "- dropout – Dropout probability on attn_output_weights. Default: 0.0 (no dropout).\n",
    "- bias – If specified, adds bias to input / output projection layers. Default: True.\n",
    "- add_bias_kv – If specified, adds bias to the key and value sequences at dim=0. Default: False.\n",
    "- add_zero_attn – If specified, adds a new batch of zeros to the key and value sequences at dim=1. Default: False.\n",
    "- kdim – Total number of features for keys. Default: None (uses kdim=embed_dim).\n",
    "- vdim – Total number of features for values. Default: None (uses vdim=embed_dim).\n",
    "- batch_first – If True, then the input and output tensors are provided as (batch, seq, feature). Default: False (seq, batch, feature)."
   ]
  },
  {
   "cell_type": "code",
   "execution_count": 4,
   "metadata": {},
   "outputs": [
    {
     "data": {
      "text/plain": [
       "MultiheadAttention(\n",
       "  (out_proj): NonDynamicallyQuantizableLinear(in_features=768, out_features=768, bias=True)\n",
       ")"
      ]
     },
     "execution_count": 4,
     "metadata": {},
     "output_type": "execute_result"
    }
   ],
   "source": [
    "# batch_first – If True, then the input and output tensors are provided as (batch, seq, feature). Default: False (seq, batch, feature).\n",
    "mha = nn.MultiheadAttention(\n",
    "    embed_dim=768, num_heads=12, dropout=0.1, bias=True, batch_first=True\n",
    ")\n",
    "mha"
   ]
  },
  {
   "cell_type": "markdown",
   "metadata": {},
   "source": [
    "# 推理"
   ]
  },
  {
   "cell_type": "code",
   "execution_count": 5,
   "metadata": {},
   "outputs": [
    {
     "data": {
      "text/plain": [
       "torch.Size([2, 192, 768])"
      ]
     },
     "execution_count": 5,
     "metadata": {},
     "output_type": "execute_result"
    }
   ],
   "source": [
    "# [batch_size, seq_len, features]\n",
    "x = torch.ones(2, 192, 768)\n",
    "x.shape"
   ]
  },
  {
   "cell_type": "code",
   "execution_count": 6,
   "metadata": {},
   "outputs": [
    {
     "data": {
      "text/plain": [
       "(torch.Size([2, 192, 768]), torch.Size([2, 192, 192]))"
      ]
     },
     "execution_count": 6,
     "metadata": {},
     "output_type": "execute_result"
    }
   ],
   "source": [
    "# attn = q @ k.T [1, 192, 768] @ [1, 768, 192] = [1, 192, 192]\n",
    "# attn = attn.softmax(dim=-1)\n",
    "# attn @ v = [1, 192, 192] @ [1, 192, 768] = [1, 192, 768]\n",
    "\n",
    "attn_output, attn_output_weights = mha(x, x, x)\n",
    "attn_output.shape, attn_output_weights.shape"
   ]
  },
  {
   "cell_type": "code",
   "execution_count": 7,
   "metadata": {},
   "outputs": [
    {
     "data": {
      "text/plain": [
       "(torch.Size([2, 192, 768]), None)"
      ]
     },
     "execution_count": 7,
     "metadata": {},
     "output_type": "execute_result"
    }
   ],
   "source": [
    "# need_weights 不要attn的权重\n",
    "attn_output, attn_output_weights = mha(x, x, x, need_weights=False)\n",
    "attn_output.shape, attn_output_weights"
   ]
  },
  {
   "cell_type": "code",
   "execution_count": null,
   "metadata": {},
   "outputs": [],
   "source": []
  }
 ],
 "metadata": {
  "kernelspec": {
   "display_name": "pytorch",
   "language": "python",
   "name": "python3"
  },
  "language_info": {
   "codemirror_mode": {
    "name": "ipython",
    "version": 3
   },
   "file_extension": ".py",
   "mimetype": "text/x-python",
   "name": "python",
   "nbconvert_exporter": "python",
   "pygments_lexer": "ipython3",
   "version": "3.11.4"
  },
  "orig_nbformat": 4
 },
 "nbformat": 4,
 "nbformat_minor": 2
}
