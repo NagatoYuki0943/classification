{
 "cells": [
  {
   "cell_type": "code",
   "execution_count": 18,
   "metadata": {},
   "outputs": [],
   "source": [
    "import torch\n",
    "from torch import nn"
   ]
  },
  {
   "attachments": {},
   "cell_type": "markdown",
   "metadata": {},
   "source": [
    "test rnn process image"
   ]
  },
  {
   "cell_type": "code",
   "execution_count": 19,
   "metadata": {},
   "outputs": [],
   "source": [
    "B, H, W, C = 10, 32, 32, 192\n",
    "INPUT_SIZE = C\n",
    "HIDDEN_SIZE = 48\n",
    "NUM_LAYERS = 3"
   ]
  },
  {
   "cell_type": "code",
   "execution_count": 20,
   "metadata": {},
   "outputs": [
    {
     "data": {
      "text/plain": [
       "torch.Size([10, 32, 32, 192])"
      ]
     },
     "execution_count": 20,
     "metadata": {},
     "output_type": "execute_result"
    }
   ],
   "source": [
    "x = torch.ones(B, H, W, C)\n",
    "x.shape"
   ]
  },
  {
   "cell_type": "code",
   "execution_count": 21,
   "metadata": {},
   "outputs": [
    {
     "data": {
      "text/plain": [
       "torch.Size([320, 32, 192])"
      ]
     },
     "execution_count": 21,
     "metadata": {},
     "output_type": "execute_result"
    }
   ],
   "source": [
    "# horizontal\n",
    "horizontal = x.reshape(-1, W, C)  # [B, H, W, C] -> [B*H, W, C]\n",
    "horizontal.shape"
   ]
  },
  {
   "cell_type": "code",
   "execution_count": 22,
   "metadata": {},
   "outputs": [
    {
     "data": {
      "text/plain": [
       "torch.Size([320, 32, 192])"
      ]
     },
     "execution_count": 22,
     "metadata": {},
     "output_type": "execute_result"
    }
   ],
   "source": [
    "# vertical same as horizontal\n",
    "vertical = x.permute(0, 2, 1, 3)  # [B, H, W, C] -> [B, W, H, C]\n",
    "vertical = vertical.reshape(-1, H, C)  # [B, W, H, C] -> [B*W, H, C]\n",
    "vertical.shape"
   ]
  },
  {
   "attachments": {},
   "cell_type": "markdown",
   "metadata": {},
   "source": [
    "# RNN"
   ]
  },
  {
   "cell_type": "code",
   "execution_count": 23,
   "metadata": {},
   "outputs": [],
   "source": [
    "rnn = nn.RNN(\n",
    "    input_size=INPUT_SIZE,\n",
    "    hidden_size=HIDDEN_SIZE,\n",
    "    num_layers=NUM_LAYERS,\n",
    "    bias=True,\n",
    "    batch_first=True,\n",
    "    bidirectional=False,\n",
    ")"
   ]
  },
  {
   "cell_type": "code",
   "execution_count": 24,
   "metadata": {},
   "outputs": [
    {
     "name": "stdout",
     "output_type": "stream",
     "text": [
      "torch.Size([320, 32, 48])\n",
      "torch.Size([3, 320, 48])\n"
     ]
    }
   ],
   "source": [
    "horizontal_, hidden_state = rnn(horizontal)\n",
    "print(horizontal_.shape)  # [B*H, W, HIDDEN_SIZE]\n",
    "print(hidden_state.shape)  # [NUM_LAYERS, B*H, HIDDEN_SIZE]"
   ]
  },
  {
   "cell_type": "code",
   "execution_count": 25,
   "metadata": {},
   "outputs": [],
   "source": [
    "brnn = nn.RNN(\n",
    "    input_size=INPUT_SIZE,\n",
    "    hidden_size=HIDDEN_SIZE,\n",
    "    num_layers=NUM_LAYERS,\n",
    "    bias=True,\n",
    "    batch_first=True,\n",
    "    bidirectional=True,\n",
    ")"
   ]
  },
  {
   "cell_type": "code",
   "execution_count": 26,
   "metadata": {},
   "outputs": [
    {
     "name": "stdout",
     "output_type": "stream",
     "text": [
      "torch.Size([320, 32, 96])\n",
      "torch.Size([6, 320, 48])\n"
     ]
    }
   ],
   "source": [
    "horizontal_, hidden_state = brnn(horizontal)\n",
    "print(horizontal_.shape)  # [B*H, W, 2*HIDDEN_SIZE]   (2 means bidirectional)\n",
    "print(hidden_state.shape)  # [2*NUM_LAYERS, B*H, HIDDEN_SIZE]"
   ]
  },
  {
   "attachments": {},
   "cell_type": "markdown",
   "metadata": {},
   "source": [
    "# LSTM"
   ]
  },
  {
   "cell_type": "code",
   "execution_count": 27,
   "metadata": {},
   "outputs": [],
   "source": [
    "lstm = nn.LSTM(\n",
    "    input_size=INPUT_SIZE,\n",
    "    hidden_size=HIDDEN_SIZE,\n",
    "    num_layers=NUM_LAYERS,\n",
    "    bias=True,\n",
    "    batch_first=True,\n",
    "    bidirectional=False,\n",
    ")"
   ]
  },
  {
   "cell_type": "code",
   "execution_count": 28,
   "metadata": {},
   "outputs": [
    {
     "name": "stdout",
     "output_type": "stream",
     "text": [
      "torch.Size([320, 32, 48])\n",
      "torch.Size([3, 320, 48])\n",
      "torch.Size([3, 320, 48])\n"
     ]
    }
   ],
   "source": [
    "horizontal_, (hidden_state, candidate_state) = lstm(horizontal)\n",
    "print(horizontal_.shape)  # [B*H, W, HIDDEN_SIZE]\n",
    "print(hidden_state.shape)  # [NUM_LAYERS, B*H, HIDDEN_SIZE]\n",
    "print(candidate_state.shape)  # [NUM_LAYERS, B*H, HIDDEN_SIZE]"
   ]
  },
  {
   "cell_type": "code",
   "execution_count": 29,
   "metadata": {},
   "outputs": [],
   "source": [
    "blstm = nn.LSTM(\n",
    "    input_size=INPUT_SIZE,\n",
    "    hidden_size=HIDDEN_SIZE,\n",
    "    num_layers=NUM_LAYERS,\n",
    "    bias=True,\n",
    "    batch_first=True,\n",
    "    bidirectional=True,\n",
    ")"
   ]
  },
  {
   "cell_type": "code",
   "execution_count": 30,
   "metadata": {},
   "outputs": [
    {
     "name": "stdout",
     "output_type": "stream",
     "text": [
      "torch.Size([320, 32, 96])\n",
      "torch.Size([6, 320, 48])\n",
      "torch.Size([6, 320, 48])\n"
     ]
    }
   ],
   "source": [
    "horizontal_, (hidden_state, candidate_state) = blstm(horizontal)\n",
    "print(horizontal_.shape)  # [B*H, W, 2*HIDDEN_SIZE]   (2 means bidirectional)\n",
    "print(hidden_state.shape)  # [2*NUM_LAYERS, B*H, HIDDEN_SIZE]\n",
    "print(candidate_state.shape)  # [2*NUM_LAYERS, B*H, HIDDEN_SIZE]"
   ]
  },
  {
   "attachments": {},
   "cell_type": "markdown",
   "metadata": {},
   "source": [
    "# GRU"
   ]
  },
  {
   "cell_type": "code",
   "execution_count": 31,
   "metadata": {},
   "outputs": [],
   "source": [
    "gru = nn.GRU(\n",
    "    input_size=INPUT_SIZE,\n",
    "    hidden_size=HIDDEN_SIZE,\n",
    "    num_layers=NUM_LAYERS,\n",
    "    bias=True,\n",
    "    batch_first=True,\n",
    "    bidirectional=False,\n",
    ")"
   ]
  },
  {
   "cell_type": "code",
   "execution_count": 32,
   "metadata": {},
   "outputs": [
    {
     "name": "stdout",
     "output_type": "stream",
     "text": [
      "torch.Size([320, 32, 48])\n",
      "torch.Size([3, 320, 48])\n"
     ]
    }
   ],
   "source": [
    "horizontal_, hidden_state = gru(horizontal)\n",
    "print(horizontal_.shape)  # [B*H, W, HIDDEN_SIZE]\n",
    "print(hidden_state.shape)  # [NUM_LAYERS, B*H, HIDDEN_SIZE]"
   ]
  },
  {
   "cell_type": "code",
   "execution_count": 33,
   "metadata": {},
   "outputs": [],
   "source": [
    "bgru = nn.GRU(\n",
    "    input_size=INPUT_SIZE,\n",
    "    hidden_size=HIDDEN_SIZE,\n",
    "    num_layers=NUM_LAYERS,\n",
    "    bias=True,\n",
    "    batch_first=True,\n",
    "    bidirectional=True,\n",
    ")"
   ]
  },
  {
   "cell_type": "code",
   "execution_count": 34,
   "metadata": {},
   "outputs": [
    {
     "name": "stdout",
     "output_type": "stream",
     "text": [
      "torch.Size([320, 32, 96])\n",
      "torch.Size([6, 320, 48])\n"
     ]
    }
   ],
   "source": [
    "horizontal_, hidden_state = bgru(horizontal)\n",
    "print(horizontal_.shape)  # [B*H, W, 2*HIDDEN_SIZE]   (2 means bidirectional)\n",
    "print(hidden_state.shape)  # [2*NUM_LAYERS, B*H, HIDDEN_SIZE]"
   ]
  },
  {
   "cell_type": "code",
   "execution_count": null,
   "metadata": {},
   "outputs": [],
   "source": []
  }
 ],
 "metadata": {
  "kernelspec": {
   "display_name": "pytorch",
   "language": "python",
   "name": "python3"
  },
  "language_info": {
   "codemirror_mode": {
    "name": "ipython",
    "version": 3
   },
   "file_extension": ".py",
   "mimetype": "text/x-python",
   "name": "python",
   "nbconvert_exporter": "python",
   "pygments_lexer": "ipython3",
   "version": "3.11.4"
  },
  "orig_nbformat": 4
 },
 "nbformat": 4,
 "nbformat_minor": 2
}
