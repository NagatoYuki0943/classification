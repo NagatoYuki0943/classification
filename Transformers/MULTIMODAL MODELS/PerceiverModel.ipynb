{
 "cells": [
  {
   "cell_type": "markdown",
   "metadata": {},
   "source": [
    "https://huggingface.co/docs/transformers/main/model_doc/perceiver"
   ]
  },
  {
   "cell_type": "code",
   "execution_count": 9,
   "metadata": {},
   "outputs": [],
   "source": [
    "import torch\n",
    "from transformers import PerceiverConfig, PerceiverTokenizer, PerceiverImageProcessor, PerceiverModel\n",
    "from transformers.models.perceiver.modeling_perceiver import (\n",
    "    PerceiverTextPreprocessor,\n",
    "    PerceiverImagePreprocessor,\n",
    "    PerceiverClassificationDecoder,\n",
    ")\n",
    "from PIL import Image\n",
    "import requests"
   ]
  },
  {
   "cell_type": "code",
   "execution_count": 2,
   "metadata": {},
   "outputs": [
    {
     "data": {
      "text/plain": [
       "device(type='cuda', index=0)"
      ]
     },
     "execution_count": 2,
     "metadata": {},
     "output_type": "execute_result"
    }
   ],
   "source": [
    "device = torch.device(\"cuda:0\" if torch.cuda.is_available() else \"cpu\")\n",
    "device"
   ]
  },
  {
   "cell_type": "code",
   "execution_count": 3,
   "metadata": {},
   "outputs": [],
   "source": [
    "# EXAMPLE 1: using the Perceiver to classify texts\n",
    "# - we define a TextPreprocessor, which can be used to embed tokens\n",
    "# - we define a ClassificationDecoder, which can be used to decode the\n",
    "# final hidden states of the latents to classification logits\n",
    "# using trainable position embeddings"
   ]
  },
  {
   "cell_type": "code",
   "execution_count": 4,
   "metadata": {},
   "outputs": [],
   "source": [
    "version = \"deepmind/language-perceiver\""
   ]
  },
  {
   "cell_type": "markdown",
   "metadata": {},
   "source": [
    "# PerceiverConfig"
   ]
  },
  {
   "cell_type": "code",
   "execution_count": 11,
   "metadata": {},
   "outputs": [
    {
     "data": {
      "text/plain": [
       "PerceiverConfig {\n",
       "  \"attention_probs_dropout_prob\": 0.1,\n",
       "  \"audio_samples_per_frame\": 1920,\n",
       "  \"cross_attention_shape_for_attention\": \"kv\",\n",
       "  \"cross_attention_widening_factor\": 1,\n",
       "  \"d_latents\": 1280,\n",
       "  \"d_model\": 768,\n",
       "  \"hidden_act\": \"gelu\",\n",
       "  \"image_size\": 56,\n",
       "  \"initializer_range\": 0.02,\n",
       "  \"layer_norm_eps\": 1e-12,\n",
       "  \"max_position_embeddings\": 2048,\n",
       "  \"model_type\": \"perceiver\",\n",
       "  \"num_blocks\": 1,\n",
       "  \"num_cross_attention_heads\": 8,\n",
       "  \"num_frames\": 16,\n",
       "  \"num_latents\": 256,\n",
       "  \"num_self_attends_per_block\": 26,\n",
       "  \"num_self_attention_heads\": 8,\n",
       "  \"output_shape\": [\n",
       "    1,\n",
       "    16,\n",
       "    224,\n",
       "    224\n",
       "  ],\n",
       "  \"qk_channels\": null,\n",
       "  \"samples_per_patch\": 16,\n",
       "  \"self_attention_widening_factor\": 1,\n",
       "  \"train_size\": [\n",
       "    368,\n",
       "    496\n",
       "  ],\n",
       "  \"transformers_version\": \"4.31.0\",\n",
       "  \"use_query_residual\": true,\n",
       "  \"v_channels\": null,\n",
       "  \"vocab_size\": 262\n",
       "}"
      ]
     },
     "execution_count": 11,
     "metadata": {},
     "output_type": "execute_result"
    }
   ],
   "source": [
    "config = PerceiverConfig()\n",
    "config"
   ]
  },
  {
   "cell_type": "markdown",
   "metadata": {},
   "source": [
    "# PerceiverTextPreprocessor"
   ]
  },
  {
   "cell_type": "code",
   "execution_count": 18,
   "metadata": {},
   "outputs": [
    {
     "data": {
      "text/plain": [
       "PerceiverTextPreprocessor(\n",
       "  (embeddings): Embedding(262, 768)\n",
       "  (position_embeddings): Embedding(2048, 768)\n",
       ")"
      ]
     },
     "execution_count": 18,
     "metadata": {},
     "output_type": "execute_result"
    }
   ],
   "source": [
    "preprocessor: PerceiverTextPreprocessor = PerceiverTextPreprocessor(config)\n",
    "preprocessor"
   ]
  },
  {
   "cell_type": "markdown",
   "metadata": {},
   "source": [
    "# PerceiverClassificationDecoder"
   ]
  },
  {
   "cell_type": "code",
   "execution_count": 16,
   "metadata": {},
   "outputs": [
    {
     "data": {
      "text/plain": [
       "PerceiverClassificationDecoder(\n",
       "  (decoder): PerceiverBasicDecoder(\n",
       "    (output_position_encodings): PerceiverTrainablePositionEncoding()\n",
       "    (positions_projection): Identity()\n",
       "    (decoding_cross_attention): PerceiverLayer(\n",
       "      (attention): PerceiverAttention(\n",
       "        (self): PerceiverSelfAttention(\n",
       "          (layernorm1): LayerNorm((1280,), eps=1e-05, elementwise_affine=True)\n",
       "          (layernorm2): LayerNorm((1280,), eps=1e-05, elementwise_affine=True)\n",
       "          (query): Linear(in_features=1280, out_features=1280, bias=True)\n",
       "          (key): Linear(in_features=1280, out_features=1280, bias=True)\n",
       "          (value): Linear(in_features=1280, out_features=1280, bias=True)\n",
       "          (dropout): Dropout(p=0.1, inplace=False)\n",
       "        )\n",
       "        (output): PerceiverSelfOutput(\n",
       "          (dense): Linear(in_features=1280, out_features=1280, bias=True)\n",
       "        )\n",
       "      )\n",
       "      (layernorm): LayerNorm((1280,), eps=1e-05, elementwise_affine=True)\n",
       "      (mlp): PerceiverMLP(\n",
       "        (dense1): Linear(in_features=1280, out_features=1280, bias=True)\n",
       "        (intermediate_act_fn): GELUActivation()\n",
       "        (dense2): Linear(in_features=1280, out_features=1280, bias=True)\n",
       "      )\n",
       "    )\n",
       "    (final_layer): Linear(in_features=1280, out_features=2, bias=True)\n",
       "  )\n",
       ")"
      ]
     },
     "execution_count": 16,
     "metadata": {},
     "output_type": "execute_result"
    }
   ],
   "source": [
    "decoder = PerceiverClassificationDecoder(\n",
    "    config,\n",
    "    num_channels=config.d_latents,\n",
    "    trainable_position_encoding_kwargs=dict(num_channels=config.d_latents, index_dims=1),\n",
    "    use_query_residual=True,\n",
    ")\n",
    "decoder"
   ]
  },
  {
   "cell_type": "markdown",
   "metadata": {},
   "source": [
    "# PerceiverTokenizer"
   ]
  },
  {
   "cell_type": "code",
   "execution_count": 20,
   "metadata": {},
   "outputs": [
    {
     "data": {
      "text/plain": [
       "PerceiverTokenizer(name_or_path='', vocab_size=262, model_max_length=2048, is_fast=False, padding_side='right', truncation_side='right', special_tokens={'bos_token': AddedToken(\"[BOS]\", rstrip=False, lstrip=False, single_word=False, normalized=True), 'eos_token': AddedToken(\"[EOS]\", rstrip=False, lstrip=False, single_word=False, normalized=True), 'sep_token': AddedToken(\"[SEP]\", rstrip=False, lstrip=False, single_word=False, normalized=True), 'pad_token': AddedToken(\"[PAD]\", rstrip=False, lstrip=False, single_word=False, normalized=True), 'cls_token': AddedToken(\"[CLS]\", rstrip=False, lstrip=False, single_word=False, normalized=True), 'mask_token': AddedToken(\"[MASK]\", rstrip=False, lstrip=False, single_word=False, normalized=True)}, clean_up_tokenization_spaces=True)"
      ]
     },
     "execution_count": 20,
     "metadata": {},
     "output_type": "execute_result"
    }
   ],
   "source": [
    "tokenizer = PerceiverTokenizer()\n",
    "tokenizer"
   ]
  },
  {
   "cell_type": "code",
   "execution_count": 22,
   "metadata": {},
   "outputs": [],
   "source": [
    "text = \"hello world\""
   ]
  },
  {
   "cell_type": "code",
   "execution_count": 23,
   "metadata": {},
   "outputs": [
    {
     "data": {
      "text/plain": [
       "tensor([[  4, 110, 107, 114, 114, 117,  38, 125, 117, 120, 114, 106,   5]])"
      ]
     },
     "execution_count": 23,
     "metadata": {},
     "output_type": "execute_result"
    }
   ],
   "source": [
    "inputs = tokenizer(text, return_tensors=\"pt\").input_ids\n",
    "inputs"
   ]
  },
  {
   "cell_type": "markdown",
   "metadata": {},
   "source": [
    "# PerceiverModel"
   ]
  },
  {
   "cell_type": "code",
   "execution_count": 24,
   "metadata": {},
   "outputs": [
    {
     "data": {
      "text/plain": [
       "PerceiverModel(\n",
       "  (input_preprocessor): PerceiverTextPreprocessor(\n",
       "    (embeddings): Embedding(262, 768)\n",
       "    (position_embeddings): Embedding(2048, 768)\n",
       "  )\n",
       "  (embeddings): PerceiverEmbeddings()\n",
       "  (encoder): PerceiverEncoder(\n",
       "    (cross_attention): PerceiverLayer(\n",
       "      (attention): PerceiverAttention(\n",
       "        (self): PerceiverSelfAttention(\n",
       "          (layernorm1): LayerNorm((1280,), eps=1e-05, elementwise_affine=True)\n",
       "          (layernorm2): LayerNorm((768,), eps=1e-05, elementwise_affine=True)\n",
       "          (query): Linear(in_features=1280, out_features=768, bias=True)\n",
       "          (key): Linear(in_features=768, out_features=768, bias=True)\n",
       "          (value): Linear(in_features=768, out_features=768, bias=True)\n",
       "          (dropout): Dropout(p=0.1, inplace=False)\n",
       "        )\n",
       "        (output): PerceiverSelfOutput(\n",
       "          (dense): Linear(in_features=768, out_features=1280, bias=True)\n",
       "        )\n",
       "      )\n",
       "      (layernorm): LayerNorm((1280,), eps=1e-05, elementwise_affine=True)\n",
       "      (mlp): PerceiverMLP(\n",
       "        (dense1): Linear(in_features=1280, out_features=1280, bias=True)\n",
       "        (intermediate_act_fn): GELUActivation()\n",
       "        (dense2): Linear(in_features=1280, out_features=1280, bias=True)\n",
       "      )\n",
       "    )\n",
       "    (self_attends): ModuleList(\n",
       "      (0-25): 26 x PerceiverLayer(\n",
       "        (attention): PerceiverAttention(\n",
       "          (self): PerceiverSelfAttention(\n",
       "            (layernorm1): LayerNorm((1280,), eps=1e-05, elementwise_affine=True)\n",
       "            (layernorm2): Identity()\n",
       "            (query): Linear(in_features=1280, out_features=1280, bias=True)\n",
       "            (key): Linear(in_features=1280, out_features=1280, bias=True)\n",
       "            (value): Linear(in_features=1280, out_features=1280, bias=True)\n",
       "            (dropout): Dropout(p=0.1, inplace=False)\n",
       "          )\n",
       "          (output): PerceiverSelfOutput(\n",
       "            (dense): Linear(in_features=1280, out_features=1280, bias=True)\n",
       "          )\n",
       "        )\n",
       "        (layernorm): LayerNorm((1280,), eps=1e-05, elementwise_affine=True)\n",
       "        (mlp): PerceiverMLP(\n",
       "          (dense1): Linear(in_features=1280, out_features=1280, bias=True)\n",
       "          (intermediate_act_fn): GELUActivation()\n",
       "          (dense2): Linear(in_features=1280, out_features=1280, bias=True)\n",
       "        )\n",
       "      )\n",
       "    )\n",
       "  )\n",
       "  (decoder): PerceiverClassificationDecoder(\n",
       "    (decoder): PerceiverBasicDecoder(\n",
       "      (output_position_encodings): PerceiverTrainablePositionEncoding()\n",
       "      (positions_projection): Identity()\n",
       "      (decoding_cross_attention): PerceiverLayer(\n",
       "        (attention): PerceiverAttention(\n",
       "          (self): PerceiverSelfAttention(\n",
       "            (layernorm1): LayerNorm((1280,), eps=1e-05, elementwise_affine=True)\n",
       "            (layernorm2): LayerNorm((1280,), eps=1e-05, elementwise_affine=True)\n",
       "            (query): Linear(in_features=1280, out_features=1280, bias=True)\n",
       "            (key): Linear(in_features=1280, out_features=1280, bias=True)\n",
       "            (value): Linear(in_features=1280, out_features=1280, bias=True)\n",
       "            (dropout): Dropout(p=0.1, inplace=False)\n",
       "          )\n",
       "          (output): PerceiverSelfOutput(\n",
       "            (dense): Linear(in_features=1280, out_features=1280, bias=True)\n",
       "          )\n",
       "        )\n",
       "        (layernorm): LayerNorm((1280,), eps=1e-05, elementwise_affine=True)\n",
       "        (mlp): PerceiverMLP(\n",
       "          (dense1): Linear(in_features=1280, out_features=1280, bias=True)\n",
       "          (intermediate_act_fn): GELUActivation()\n",
       "          (dense2): Linear(in_features=1280, out_features=1280, bias=True)\n",
       "        )\n",
       "      )\n",
       "      (final_layer): Linear(in_features=1280, out_features=2, bias=True)\n",
       "    )\n",
       "  )\n",
       ")"
      ]
     },
     "execution_count": 24,
     "metadata": {},
     "output_type": "execute_result"
    }
   ],
   "source": [
    "model = PerceiverModel(config, input_preprocessor=preprocessor, decoder=decoder)\n",
    "model"
   ]
  },
  {
   "cell_type": "code",
   "execution_count": 25,
   "metadata": {},
   "outputs": [
    {
     "data": {
      "text/plain": [
       "PerceiverModelOutput(logits=tensor([[ 0.0690, -0.3086]]), last_hidden_state=tensor([[[-1.6973,  1.9563, -3.6782,  ..., -0.4137, -2.4918, -1.9118],\n",
       "         [-1.8106,  1.9883, -3.6225,  ..., -0.7294, -2.3145, -1.7949],\n",
       "         [-1.7977,  2.1399, -3.8856,  ..., -0.8173, -2.7854, -2.2094],\n",
       "         ...,\n",
       "         [-1.5733,  2.4623, -4.0288,  ..., -1.0537, -2.5059, -1.5030],\n",
       "         [-2.0358,  2.3189, -3.3642,  ..., -0.8099, -2.8462, -1.9373],\n",
       "         [-1.6094,  1.9983, -3.8460,  ..., -1.2038, -2.5860, -1.8186]]]), hidden_states=None, attentions=None, cross_attentions=None)"
      ]
     },
     "execution_count": 25,
     "metadata": {},
     "output_type": "execute_result"
    }
   ],
   "source": [
    "with torch.inference_mode():\n",
    "    outputs = model(inputs=inputs)\n",
    "outputs"
   ]
  },
  {
   "cell_type": "code",
   "execution_count": 26,
   "metadata": {},
   "outputs": [
    {
     "data": {
      "text/plain": [
       "tensor([[ 0.0690, -0.3086]])"
      ]
     },
     "execution_count": 26,
     "metadata": {},
     "output_type": "execute_result"
    }
   ],
   "source": [
    "outputs.logits"
   ]
  },
  {
   "cell_type": "code",
   "execution_count": null,
   "metadata": {},
   "outputs": [],
   "source": []
  }
 ],
 "metadata": {
  "kernelspec": {
   "display_name": "pytorch",
   "language": "python",
   "name": "python3"
  },
  "language_info": {
   "codemirror_mode": {
    "name": "ipython",
    "version": 3
   },
   "file_extension": ".py",
   "mimetype": "text/x-python",
   "name": "python",
   "nbconvert_exporter": "python",
   "pygments_lexer": "ipython3",
   "version": "3.11.4"
  },
  "orig_nbformat": 4
 },
 "nbformat": 4,
 "nbformat_minor": 2
}
