{
 "cells": [
  {
   "cell_type": "code",
   "execution_count": 19,
   "metadata": {},
   "outputs": [],
   "source": [
    "import sentencepiece as spm"
   ]
  },
  {
   "cell_type": "code",
   "execution_count": 20,
   "metadata": {},
   "outputs": [
    {
     "data": {
      "text/plain": [
       "['BytesIO',\n",
       " 'ImmutableNBestSentencePieceText',\n",
       " 'ImmutableSentencePieceText',\n",
       " 'ImmutableSentencePieceText_ImmutableSentencePiece',\n",
       " 'SentencePieceProcessor',\n",
       " 'SentencePieceTrainer',\n",
       " 'SentencePieceTrainer__TrainFromMap',\n",
       " 'SentencePieceTrainer__TrainFromMap2',\n",
       " 'SentencePieceTrainer__TrainFromMap3',\n",
       " 'SentencePieceTrainer__TrainFromMap4',\n",
       " 'SentencePieceTrainer__TrainFromString',\n",
       " 'SetRandomGeneratorSeed',\n",
       " 'StringIO',\n",
       " '_LogStream',\n",
       " '_SwigNonDynamicMeta',\n",
       " '_add_snake_case',\n",
       " '_batchnize',\n",
       " '_sentencepiece',\n",
       " '_sentencepiece_processor_init_native',\n",
       " '_swig_add_metaclass',\n",
       " '_swig_python_version_info',\n",
       " '_swig_repr',\n",
       " '_swig_setattr_nondynamic_class_variable',\n",
       " '_swig_setattr_nondynamic_instance_variable',\n",
       " '_version',\n",
       " 'csv',\n",
       " 'm',\n",
       " 'os',\n",
       " 're',\n",
       " 'set_random_generator_seed',\n",
       " 'sys']"
      ]
     },
     "execution_count": 20,
     "metadata": {},
     "output_type": "execute_result"
    }
   ],
   "source": [
    "[i for i in dir(spm) if not i.startswith(\"__\")]"
   ]
  },
  {
   "cell_type": "markdown",
   "metadata": {},
   "source": [
    "# Load Model"
   ]
  },
  {
   "cell_type": "code",
   "execution_count": 21,
   "metadata": {},
   "outputs": [],
   "source": [
    "model_path = \"Llama-2-70b-chat-hf/tokenizer.model\""
   ]
  },
  {
   "cell_type": "code",
   "execution_count": 22,
   "metadata": {},
   "outputs": [
    {
     "data": {
      "text/plain": [
       "<sentencepiece.SentencePieceProcessor; proxy of <Swig Object of type 'sentencepiece::SentencePieceProcessor *' at 0x000001EF48DDCBD0> >"
      ]
     },
     "execution_count": 22,
     "metadata": {},
     "output_type": "execute_result"
    }
   ],
   "source": [
    "sp_model = spm.SentencePieceProcessor(model_file=model_path)\n",
    "sp_model"
   ]
  },
  {
   "cell_type": "code",
   "execution_count": 38,
   "metadata": {},
   "outputs": [
    {
     "data": {
      "text/plain": [
       "['CalculateEntropy',\n",
       " 'Decode',\n",
       " 'DecodeIds',\n",
       " 'DecodeIdsAsImmutableProto',\n",
       " 'DecodeIdsAsSerializedProto',\n",
       " 'DecodePieces',\n",
       " 'DecodePiecesAsImmutableProto',\n",
       " 'DecodePiecesAsSerializedProto',\n",
       " 'Detokenize',\n",
       " 'Encode',\n",
       " 'EncodeAsIds',\n",
       " 'EncodeAsImmutableProto',\n",
       " 'EncodeAsPieces',\n",
       " 'EncodeAsSerializedProto',\n",
       " 'GetPieceSize',\n",
       " 'GetScore',\n",
       " 'IdToPiece',\n",
       " 'Init',\n",
       " 'IsByte',\n",
       " 'IsControl',\n",
       " 'IsUnknown',\n",
       " 'IsUnused',\n",
       " 'Load',\n",
       " 'LoadFromFile',\n",
       " 'LoadFromSerializedProto',\n",
       " 'LoadVocabulary',\n",
       " 'NBestEncode',\n",
       " 'NBestEncodeAsIds',\n",
       " 'NBestEncodeAsImmutableProto',\n",
       " 'NBestEncodeAsPieces',\n",
       " 'NBestEncodeAsSerializedProto',\n",
       " 'PieceToId',\n",
       " 'ResetVocabulary',\n",
       " 'SampleEncodeAndScore',\n",
       " 'SampleEncodeAndScoreAsIds',\n",
       " 'SampleEncodeAndScoreAsImmutableProto',\n",
       " 'SampleEncodeAndScoreAsPieces',\n",
       " 'SampleEncodeAndScoreAsSerializedProto',\n",
       " 'SampleEncodeAsIds',\n",
       " 'SampleEncodeAsImmutableProto',\n",
       " 'SampleEncodeAsPieces',\n",
       " 'SampleEncodeAsSerializedProto',\n",
       " 'SetDecodeExtraOptions',\n",
       " 'SetEncodeExtraOptions',\n",
       " 'SetVocabulary',\n",
       " 'Tokenize',\n",
       " 'bos_id',\n",
       " 'calculate_entropy',\n",
       " 'decode',\n",
       " 'decode_ids',\n",
       " 'decode_ids_as_immutable_proto',\n",
       " 'decode_ids_as_serialized_proto',\n",
       " 'decode_pieces',\n",
       " 'decode_pieces_as_immutable_proto',\n",
       " 'decode_pieces_as_serialized_proto',\n",
       " 'detokenize',\n",
       " 'encode',\n",
       " 'encode_as_ids',\n",
       " 'encode_as_immutable_proto',\n",
       " 'encode_as_pieces',\n",
       " 'encode_as_serialized_proto',\n",
       " 'eos_id',\n",
       " 'get_piece_size',\n",
       " 'get_score',\n",
       " 'id_to_piece',\n",
       " 'init',\n",
       " 'is_byte',\n",
       " 'is_control',\n",
       " 'is_unknown',\n",
       " 'is_unused',\n",
       " 'load',\n",
       " 'load_from_file',\n",
       " 'load_from_serialized_proto',\n",
       " 'load_vocabulary',\n",
       " 'nbest_encode',\n",
       " 'nbest_encode_as_ids',\n",
       " 'nbest_encode_as_immutable_proto',\n",
       " 'nbest_encode_as_pieces',\n",
       " 'nbest_encode_as_serialized_proto',\n",
       " 'pad_id',\n",
       " 'piece_size',\n",
       " 'piece_to_id',\n",
       " 'reset_vocabulary',\n",
       " 'sample_encode_and_score',\n",
       " 'sample_encode_and_score_as_ids',\n",
       " 'sample_encode_and_score_as_immutable_proto',\n",
       " 'sample_encode_and_score_as_pieces',\n",
       " 'sample_encode_and_score_as_serialized_proto',\n",
       " 'sample_encode_as_ids',\n",
       " 'sample_encode_as_immutable_proto',\n",
       " 'sample_encode_as_pieces',\n",
       " 'sample_encode_as_serialized_proto',\n",
       " 'serialized_model_proto',\n",
       " 'set_decode_extra_options',\n",
       " 'set_encode_extra_options',\n",
       " 'set_vocabulary',\n",
       " 'this',\n",
       " 'thisown',\n",
       " 'tokenize',\n",
       " 'unk_id',\n",
       " 'vocab_size']"
      ]
     },
     "execution_count": 38,
     "metadata": {},
     "output_type": "execute_result"
    }
   ],
   "source": [
    "[i for i in dir(sp_model) if not i.startswith(\"_\")]"
   ]
  },
  {
   "cell_type": "code",
   "execution_count": 24,
   "metadata": {},
   "outputs": [
    {
     "data": {
      "text/plain": [
       "(1, 2, -1, 0)"
      ]
     },
     "execution_count": 24,
     "metadata": {},
     "output_type": "execute_result"
    }
   ],
   "source": [
    "sp_model.bos_id(), sp_model.eos_id(), sp_model.pad_id(), sp_model.unk_id()"
   ]
  },
  {
   "cell_type": "code",
   "execution_count": 37,
   "metadata": {},
   "outputs": [
    {
     "data": {
      "text/plain": [
       "('', '', ' ⁇ ')"
      ]
     },
     "execution_count": 37,
     "metadata": {},
     "output_type": "execute_result"
    }
   ],
   "source": [
    "sp_model.Decode([1]), sp_model.Decode([2]), sp_model.Decode([0])"
   ]
  },
  {
   "cell_type": "code",
   "execution_count": 26,
   "metadata": {},
   "outputs": [
    {
     "data": {
      "text/plain": [
       "32000"
      ]
     },
     "execution_count": 26,
     "metadata": {},
     "output_type": "execute_result"
    }
   ],
   "source": [
    "sp_model.vocab_size()"
   ]
  },
  {
   "cell_type": "code",
   "execution_count": 27,
   "metadata": {},
   "outputs": [
    {
     "data": {
      "text/plain": [
       "(32000, 32000)"
      ]
     },
     "execution_count": 27,
     "metadata": {},
     "output_type": "execute_result"
    }
   ],
   "source": [
    "sp_model.get_piece_size(), sp_model.GetPieceSize()"
   ]
  },
  {
   "cell_type": "markdown",
   "metadata": {},
   "source": [
    "# encode / tokenize"
   ]
  },
  {
   "cell_type": "code",
   "execution_count": 28,
   "metadata": {},
   "outputs": [],
   "source": [
    "inputs = [\n",
    "    \"The quick brown fox jumps over the lazy dog\",\n",
    "    \"一二三四五六七八九十\",\n",
    "]"
   ]
  },
  {
   "cell_type": "code",
   "execution_count": 40,
   "metadata": {},
   "outputs": [
    {
     "data": {
      "text/plain": [
       "[[450, 4996, 17354, 1701, 29916, 432, 17204, 975, 278, 17366, 11203],\n",
       " [29871, 30287, 30685, 30457, 30928, 30904, 31304, 31425, 31044, 31321, 30802]]"
      ]
     },
     "execution_count": 40,
     "metadata": {},
     "output_type": "execute_result"
    }
   ],
   "source": [
    "sp_model.tokenize(input=inputs)"
   ]
  },
  {
   "cell_type": "code",
   "execution_count": 41,
   "metadata": {},
   "outputs": [
    {
     "data": {
      "text/plain": [
       "[[450, 4996, 17354, 1701, 29916, 432, 17204, 975, 278, 17366, 11203],\n",
       " [29871, 30287, 30685, 30457, 30928, 30904, 31304, 31425, 31044, 31321, 30802]]"
      ]
     },
     "execution_count": 41,
     "metadata": {},
     "output_type": "execute_result"
    }
   ],
   "source": [
    "sp_model.Tokenize(input=inputs)"
   ]
  },
  {
   "cell_type": "code",
   "execution_count": 29,
   "metadata": {},
   "outputs": [
    {
     "data": {
      "text/plain": [
       "[[450, 4996, 17354, 1701, 29916, 432, 17204, 975, 278, 17366, 11203],\n",
       " [29871, 30287, 30685, 30457, 30928, 30904, 31304, 31425, 31044, 31321, 30802]]"
      ]
     },
     "execution_count": 29,
     "metadata": {},
     "output_type": "execute_result"
    }
   ],
   "source": [
    "ids = sp_model.encode(input=inputs)\n",
    "ids"
   ]
  },
  {
   "cell_type": "code",
   "execution_count": 30,
   "metadata": {},
   "outputs": [
    {
     "data": {
      "text/plain": [
       "[[450, 4996, 17354, 1701, 29916, 432, 17204, 975, 278, 17366, 11203],\n",
       " [29871, 30287, 30685, 30457, 30928, 30904, 31304, 31425, 31044, 31321, 30802]]"
      ]
     },
     "execution_count": 30,
     "metadata": {},
     "output_type": "execute_result"
    }
   ],
   "source": [
    "ids = sp_model.Encode(input=inputs)\n",
    "ids"
   ]
  },
  {
   "cell_type": "code",
   "execution_count": 31,
   "metadata": {},
   "outputs": [
    {
     "data": {
      "text/plain": [
       "[[450, 4996, 17354, 1701, 29916, 432, 17204, 975, 278, 17366, 11203],\n",
       " [29871, 30287, 30685, 30457, 30928, 30904, 31304, 31425, 31044, 31321, 30802]]"
      ]
     },
     "execution_count": 31,
     "metadata": {},
     "output_type": "execute_result"
    }
   ],
   "source": [
    "# 调用的Encode\n",
    "sp_model.encode_as_ids(input=inputs)"
   ]
  },
  {
   "cell_type": "code",
   "execution_count": 32,
   "metadata": {},
   "outputs": [
    {
     "data": {
      "text/plain": [
       "[[450, 4996, 17354, 1701, 29916, 432, 17204, 975, 278, 17366, 11203],\n",
       " [29871, 30287, 30685, 30457, 30928, 30904, 31304, 31425, 31044, 31321, 30802]]"
      ]
     },
     "execution_count": 32,
     "metadata": {},
     "output_type": "execute_result"
    }
   ],
   "source": [
    "# 调用的Encode\n",
    "sp_model.EncodeAsIds(input=inputs)"
   ]
  },
  {
   "cell_type": "markdown",
   "metadata": {},
   "source": [
    "# decode"
   ]
  },
  {
   "cell_type": "code",
   "execution_count": 33,
   "metadata": {},
   "outputs": [
    {
     "data": {
      "text/plain": [
       "['The quick brown fox jumps over the lazy dog', '一二三四五六七八九十']"
      ]
     },
     "execution_count": 33,
     "metadata": {},
     "output_type": "execute_result"
    }
   ],
   "source": [
    "sp_model.decode(ids)"
   ]
  },
  {
   "cell_type": "code",
   "execution_count": 34,
   "metadata": {},
   "outputs": [
    {
     "data": {
      "text/plain": [
       "['The quick brown fox jumps over the lazy dog', '一二三四五六七八九十']"
      ]
     },
     "execution_count": 34,
     "metadata": {},
     "output_type": "execute_result"
    }
   ],
   "source": [
    "sp_model.Decode(ids)"
   ]
  },
  {
   "cell_type": "code",
   "execution_count": 35,
   "metadata": {},
   "outputs": [
    {
     "data": {
      "text/plain": [
       "['The quick brown fox jumps over the lazy dog', '一二三四五六七八九十']"
      ]
     },
     "execution_count": 35,
     "metadata": {},
     "output_type": "execute_result"
    }
   ],
   "source": [
    "# 调用的Decode\n",
    "sp_model.decode_ids(ids)"
   ]
  },
  {
   "cell_type": "code",
   "execution_count": 36,
   "metadata": {},
   "outputs": [
    {
     "data": {
      "text/plain": [
       "['The quick brown fox jumps over the lazy dog', '一二三四五六七八九十']"
      ]
     },
     "execution_count": 36,
     "metadata": {},
     "output_type": "execute_result"
    }
   ],
   "source": [
    "# 调用的Decode\n",
    "sp_model.DecodeIds(ids)"
   ]
  },
  {
   "cell_type": "code",
   "execution_count": null,
   "metadata": {},
   "outputs": [],
   "source": []
  }
 ],
 "metadata": {
  "kernelspec": {
   "display_name": "pytorch",
   "language": "python",
   "name": "python3"
  },
  "language_info": {
   "codemirror_mode": {
    "name": "ipython",
    "version": 3
   },
   "file_extension": ".py",
   "mimetype": "text/x-python",
   "name": "python",
   "nbconvert_exporter": "python",
   "pygments_lexer": "ipython3",
   "version": "3.11.4"
  }
 },
 "nbformat": 4,
 "nbformat_minor": 2
}
