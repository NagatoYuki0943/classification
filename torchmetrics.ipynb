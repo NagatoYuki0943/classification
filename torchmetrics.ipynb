{
 "cells": [
  {
   "cell_type": "code",
   "execution_count": 2,
   "metadata": {},
   "outputs": [],
   "source": [
    "import torch\n",
    "from torchmetrics.functional import accuracy, precision, recall, confusion_matrix"
   ]
  },
  {
   "attachments": {},
   "cell_type": "markdown",
   "metadata": {},
   "source": [
    "# 两组数据长度相等"
   ]
  },
  {
   "cell_type": "code",
   "execution_count": 3,
   "metadata": {},
   "outputs": [],
   "source": [
    "preds1 = torch.tensor(\n",
    "    [\n",
    "        [0.75, 0.05, 0.05, 0.05, 0.05],  # 1\n",
    "        [0.05, 0.75, 0.05, 0.05, 0.05],  # 1\n",
    "        [0.05, 0.05, 0.75, 0.05, 0.05],  # 0\n",
    "        [0.05, 0.05, 0.05, 0.75, 0.05],  # 0\n",
    "    ]\n",
    ")\n",
    "target1 = torch.tensor([0, 1, 3, 2])"
   ]
  },
  {
   "cell_type": "code",
   "execution_count": 4,
   "metadata": {},
   "outputs": [],
   "source": [
    "preds2 = torch.tensor(\n",
    "    [\n",
    "        [0.05, 0.50, 0.05, 0.05, 0.05],  # 1\n",
    "        [0.05, 0.05, 0.05, 0.05, 0.75],  # 1\n",
    "        [0.05, 0.05, 0.75, 0.05, 0.05],  # 1\n",
    "        [0.05, 0.05, 0.05, 0.05, 0.75],  # 0\n",
    "    ]\n",
    ")\n",
    "target2 = torch.tensor([1, 4, 2, 3])"
   ]
  },
  {
   "cell_type": "code",
   "execution_count": 5,
   "metadata": {},
   "outputs": [
    {
     "data": {
      "text/plain": [
       "tensor([[0.7500, 0.0500, 0.0500, 0.0500, 0.0500],\n",
       "        [0.0500, 0.7500, 0.0500, 0.0500, 0.0500],\n",
       "        [0.0500, 0.0500, 0.7500, 0.0500, 0.0500],\n",
       "        [0.0500, 0.0500, 0.0500, 0.7500, 0.0500],\n",
       "        [0.0500, 0.5000, 0.0500, 0.0500, 0.0500],\n",
       "        [0.0500, 0.0500, 0.0500, 0.0500, 0.7500],\n",
       "        [0.0500, 0.0500, 0.7500, 0.0500, 0.0500],\n",
       "        [0.0500, 0.0500, 0.0500, 0.0500, 0.7500]])"
      ]
     },
     "execution_count": 5,
     "metadata": {},
     "output_type": "execute_result"
    }
   ],
   "source": [
    "preds12 = torch.cat((preds1, preds2), dim=0)\n",
    "targets12 = torch.cat((target1, target2), dim=0)\n",
    "preds12"
   ]
  },
  {
   "cell_type": "code",
   "execution_count": 6,
   "metadata": {},
   "outputs": [
    {
     "data": {
      "text/plain": [
       "tensor([0, 1, 2, 3, 1, 4, 2, 4])"
      ]
     },
     "execution_count": 6,
     "metadata": {},
     "output_type": "execute_result"
    }
   ],
   "source": [
    "_, preds12_ = preds12.max(dim=-1)\n",
    "preds12_"
   ]
  },
  {
   "attachments": {},
   "cell_type": "markdown",
   "metadata": {},
   "source": [
    "## accuracy"
   ]
  },
  {
   "cell_type": "code",
   "execution_count": 7,
   "metadata": {},
   "outputs": [
    {
     "data": {
      "text/plain": [
       "tensor(0.5000)"
      ]
     },
     "execution_count": 7,
     "metadata": {},
     "output_type": "execute_result"
    }
   ],
   "source": [
    "accuracy(preds=preds1, target=target1, task=\"multiclass\", num_classes=5, top_k=1)"
   ]
  },
  {
   "cell_type": "code",
   "execution_count": 8,
   "metadata": {},
   "outputs": [
    {
     "data": {
      "text/plain": [
       "tensor(0.7500)"
      ]
     },
     "execution_count": 8,
     "metadata": {},
     "output_type": "execute_result"
    }
   ],
   "source": [
    "accuracy(preds=preds2, target=target2, task=\"multiclass\", num_classes=5, top_k=1)"
   ]
  },
  {
   "cell_type": "code",
   "execution_count": 9,
   "metadata": {},
   "outputs": [
    {
     "data": {
      "text/plain": [
       "tensor(0.6250)"
      ]
     },
     "execution_count": 9,
     "metadata": {},
     "output_type": "execute_result"
    }
   ],
   "source": [
    "# 这里可以看到,只有两组数据相等的情况下才能计算准确率的平均值\n",
    "accuracy(preds=preds12, target=targets12, task=\"multiclass\", num_classes=5, top_k=1)"
   ]
  },
  {
   "cell_type": "code",
   "execution_count": 10,
   "metadata": {},
   "outputs": [
    {
     "data": {
      "text/plain": [
       "tensor(0.6250)"
      ]
     },
     "execution_count": 10,
     "metadata": {},
     "output_type": "execute_result"
    }
   ],
   "source": [
    "accuracy(preds=preds12_, target=targets12, task=\"multiclass\", num_classes=5, top_k=1)"
   ]
  },
  {
   "cell_type": "code",
   "execution_count": 11,
   "metadata": {},
   "outputs": [
    {
     "data": {
      "text/plain": [
       "0.625"
      ]
     },
     "execution_count": 11,
     "metadata": {},
     "output_type": "execute_result"
    }
   ],
   "source": [
    "# 两组数据取平均值是可以的\n",
    "(0.5 + 0.75) / 2"
   ]
  },
  {
   "attachments": {},
   "cell_type": "markdown",
   "metadata": {},
   "source": [
    "## precision 不能取平均"
   ]
  },
  {
   "cell_type": "code",
   "execution_count": 12,
   "metadata": {},
   "outputs": [
    {
     "data": {
      "text/plain": [
       "tensor([1., 1., 0., 0., 0.])"
      ]
     },
     "execution_count": 12,
     "metadata": {},
     "output_type": "execute_result"
    }
   ],
   "source": [
    "precision(preds=preds1, target=target1, task=\"multiclass\", num_classes=5, average=None)"
   ]
  },
  {
   "cell_type": "code",
   "execution_count": 13,
   "metadata": {},
   "outputs": [
    {
     "data": {
      "text/plain": [
       "tensor([0.0000, 1.0000, 1.0000, 0.0000, 0.5000])"
      ]
     },
     "execution_count": 13,
     "metadata": {},
     "output_type": "execute_result"
    }
   ],
   "source": [
    "precision(preds=preds2, target=target2, task=\"multiclass\", num_classes=5, average=None)"
   ]
  },
  {
   "cell_type": "code",
   "execution_count": 14,
   "metadata": {},
   "outputs": [
    {
     "data": {
      "text/plain": [
       "tensor([1.0000, 1.0000, 0.5000, 0.0000, 0.5000])"
      ]
     },
     "execution_count": 14,
     "metadata": {},
     "output_type": "execute_result"
    }
   ],
   "source": [
    "precision(\n",
    "    preds=preds12, target=targets12, task=\"multiclass\", num_classes=5, average=None\n",
    ")"
   ]
  },
  {
   "cell_type": "code",
   "execution_count": 15,
   "metadata": {},
   "outputs": [
    {
     "data": {
      "text/plain": [
       "tensor([1.0000, 1.0000, 0.5000, 0.0000, 0.5000])"
      ]
     },
     "execution_count": 15,
     "metadata": {},
     "output_type": "execute_result"
    }
   ],
   "source": [
    "precision(\n",
    "    preds=preds12_, target=targets12, task=\"multiclass\", num_classes=5, average=None\n",
    ")"
   ]
  },
  {
   "attachments": {},
   "cell_type": "markdown",
   "metadata": {},
   "source": [
    "## recall 不能取平均"
   ]
  },
  {
   "cell_type": "code",
   "execution_count": 16,
   "metadata": {},
   "outputs": [
    {
     "data": {
      "text/plain": [
       "tensor([1., 1., 0., 0., 0.])"
      ]
     },
     "execution_count": 16,
     "metadata": {},
     "output_type": "execute_result"
    }
   ],
   "source": [
    "recall(preds=preds1, target=target1, task=\"multiclass\", num_classes=5, average=None)"
   ]
  },
  {
   "cell_type": "code",
   "execution_count": 17,
   "metadata": {},
   "outputs": [
    {
     "data": {
      "text/plain": [
       "tensor([0., 1., 1., 0., 1.])"
      ]
     },
     "execution_count": 17,
     "metadata": {},
     "output_type": "execute_result"
    }
   ],
   "source": [
    "recall(preds=preds2, target=target2, task=\"multiclass\", num_classes=5, average=None)"
   ]
  },
  {
   "cell_type": "code",
   "execution_count": 18,
   "metadata": {},
   "outputs": [
    {
     "data": {
      "text/plain": [
       "tensor([1.0000, 1.0000, 0.5000, 0.0000, 1.0000])"
      ]
     },
     "execution_count": 18,
     "metadata": {},
     "output_type": "execute_result"
    }
   ],
   "source": [
    "recall(preds=preds12, target=targets12, task=\"multiclass\", num_classes=5, average=None)"
   ]
  },
  {
   "cell_type": "code",
   "execution_count": 19,
   "metadata": {},
   "outputs": [
    {
     "data": {
      "text/plain": [
       "tensor([1.0000, 1.0000, 0.5000, 0.0000, 1.0000])"
      ]
     },
     "execution_count": 19,
     "metadata": {},
     "output_type": "execute_result"
    }
   ],
   "source": [
    "recall(preds=preds12_, target=targets12, task=\"multiclass\", num_classes=5, average=None)"
   ]
  },
  {
   "attachments": {},
   "cell_type": "markdown",
   "metadata": {},
   "source": [
    "## confusion_matrix 不能取平均"
   ]
  },
  {
   "cell_type": "code",
   "execution_count": 38,
   "metadata": {},
   "outputs": [
    {
     "data": {
      "text/plain": [
       "tensor([[1., 0., 0., 0., 0.],\n",
       "        [0., 1., 0., 0., 0.],\n",
       "        [0., 0., 0., 1., 0.],\n",
       "        [0., 0., 1., 0., 0.],\n",
       "        [0., 0., 0., 0., 0.]])"
      ]
     },
     "execution_count": 38,
     "metadata": {},
     "output_type": "execute_result"
    }
   ],
   "source": [
    "# normalize=\"none\" 代表按照不归一化\n",
    "# normalize=\"true\" 代表按照ture的一行的和为1\n",
    "# normalize=\"pred\" 代表按照pred的一列的和为1\n",
    "# normalize=\"all\"  代表按照全部和为1\n",
    "confusion_matrix(\n",
    "    preds=preds1, target=target1, task=\"multiclass\", num_classes=5, normalize=\"true\"\n",
    ")"
   ]
  },
  {
   "cell_type": "code",
   "execution_count": 39,
   "metadata": {},
   "outputs": [
    {
     "data": {
      "text/plain": [
       "tensor([[0., 0., 0., 0., 0.],\n",
       "        [0., 1., 0., 0., 0.],\n",
       "        [0., 0., 1., 0., 0.],\n",
       "        [0., 0., 0., 0., 1.],\n",
       "        [0., 0., 0., 0., 1.]])"
      ]
     },
     "execution_count": 39,
     "metadata": {},
     "output_type": "execute_result"
    }
   ],
   "source": [
    "confusion_matrix(\n",
    "    preds=preds2, target=target2, task=\"multiclass\", num_classes=5, normalize=\"true\"\n",
    ")"
   ]
  },
  {
   "cell_type": "code",
   "execution_count": 40,
   "metadata": {},
   "outputs": [
    {
     "data": {
      "text/plain": [
       "tensor([[1.0000, 0.0000, 0.0000, 0.0000, 0.0000],\n",
       "        [0.0000, 1.0000, 0.0000, 0.0000, 0.0000],\n",
       "        [0.0000, 0.0000, 0.5000, 0.5000, 0.0000],\n",
       "        [0.0000, 0.0000, 0.5000, 0.0000, 0.5000],\n",
       "        [0.0000, 0.0000, 0.0000, 0.0000, 1.0000]])"
      ]
     },
     "execution_count": 40,
     "metadata": {},
     "output_type": "execute_result"
    }
   ],
   "source": [
    "confusion_matrix(\n",
    "    preds=preds12, target=targets12, task=\"multiclass\", num_classes=5, normalize=\"true\"\n",
    ")"
   ]
  },
  {
   "cell_type": "code",
   "execution_count": 41,
   "metadata": {},
   "outputs": [
    {
     "data": {
      "text/plain": [
       "tensor([[1.0000, 0.0000, 0.0000, 0.0000, 0.0000],\n",
       "        [0.0000, 1.0000, 0.0000, 0.0000, 0.0000],\n",
       "        [0.0000, 0.0000, 0.5000, 0.5000, 0.0000],\n",
       "        [0.0000, 0.0000, 0.5000, 0.0000, 0.5000],\n",
       "        [0.0000, 0.0000, 0.0000, 0.0000, 1.0000]])"
      ]
     },
     "execution_count": 41,
     "metadata": {},
     "output_type": "execute_result"
    }
   ],
   "source": [
    "confusion_matrix(\n",
    "    preds=preds12_, target=targets12, task=\"multiclass\", num_classes=5, normalize=\"true\"\n",
    ")"
   ]
  },
  {
   "attachments": {},
   "cell_type": "markdown",
   "metadata": {},
   "source": [
    "### normalize=\"true\" example"
   ]
  },
  {
   "cell_type": "code",
   "execution_count": null,
   "metadata": {},
   "outputs": [],
   "source": [
    "# normalize=\"true\"\n",
    "cm = torch.tensor(\n",
    "    [\n",
    "        [\n",
    "            0.0000,\n",
    "            0.0385,\n",
    "            0.1923,\n",
    "            0.0769,\n",
    "            0.3462,\n",
    "            0.0000,\n",
    "            0.2692,\n",
    "            0.0000,\n",
    "            0.0000,\n",
    "            0.0769,\n",
    "        ],\n",
    "        [\n",
    "            0.0000,\n",
    "            0.1500,\n",
    "            0.2000,\n",
    "            0.0500,\n",
    "            0.4500,\n",
    "            0.0000,\n",
    "            0.0000,\n",
    "            0.0500,\n",
    "            0.0500,\n",
    "            0.0500,\n",
    "        ],\n",
    "        [\n",
    "            0.0000,\n",
    "            0.1667,\n",
    "            0.2500,\n",
    "            0.2083,\n",
    "            0.2917,\n",
    "            0.0000,\n",
    "            0.0833,\n",
    "            0.0000,\n",
    "            0.0000,\n",
    "            0.0000,\n",
    "        ],\n",
    "        [\n",
    "            0.0435,\n",
    "            0.0435,\n",
    "            0.1739,\n",
    "            0.3478,\n",
    "            0.1739,\n",
    "            0.0000,\n",
    "            0.0000,\n",
    "            0.1304,\n",
    "            0.0435,\n",
    "            0.0435,\n",
    "        ],\n",
    "        [\n",
    "            0.0000,\n",
    "            0.0000,\n",
    "            0.5000,\n",
    "            0.2500,\n",
    "            0.1000,\n",
    "            0.0000,\n",
    "            0.0500,\n",
    "            0.0500,\n",
    "            0.0000,\n",
    "            0.0500,\n",
    "        ],\n",
    "        [\n",
    "            0.0000,\n",
    "            0.0769,\n",
    "            0.2692,\n",
    "            0.2308,\n",
    "            0.1538,\n",
    "            0.0000,\n",
    "            0.0000,\n",
    "            0.0385,\n",
    "            0.1538,\n",
    "            0.0769,\n",
    "        ],\n",
    "        [\n",
    "            0.0345,\n",
    "            0.0000,\n",
    "            0.4483,\n",
    "            0.2759,\n",
    "            0.1034,\n",
    "            0.0000,\n",
    "            0.0345,\n",
    "            0.0345,\n",
    "            0.0345,\n",
    "            0.0345,\n",
    "        ],\n",
    "        [\n",
    "            0.0417,\n",
    "            0.1250,\n",
    "            0.2500,\n",
    "            0.0833,\n",
    "            0.1667,\n",
    "            0.0000,\n",
    "            0.0833,\n",
    "            0.1250,\n",
    "            0.0417,\n",
    "            0.0833,\n",
    "        ],\n",
    "        [\n",
    "            0.0000,\n",
    "            0.0294,\n",
    "            0.1176,\n",
    "            0.0588,\n",
    "            0.5588,\n",
    "            0.0000,\n",
    "            0.1765,\n",
    "            0.0294,\n",
    "            0.0000,\n",
    "            0.0294,\n",
    "        ],\n",
    "        [\n",
    "            0.0000,\n",
    "            0.2333,\n",
    "            0.3000,\n",
    "            0.0667,\n",
    "            0.3000,\n",
    "            0.0000,\n",
    "            0.0333,\n",
    "            0.0000,\n",
    "            0.0333,\n",
    "            0.0333,\n",
    "        ],\n",
    "    ]\n",
    ")"
   ]
  },
  {
   "cell_type": "code",
   "execution_count": null,
   "metadata": {},
   "outputs": [
    {
     "data": {
      "text/plain": [
       "tensor([1.0000, 1.0000, 1.0000, 1.0000, 1.0000, 0.9999, 1.0001, 1.0000, 0.9999,\n",
       "        0.9999])"
      ]
     },
     "metadata": {},
     "output_type": "display_data"
    }
   ],
   "source": [
    "cm.sum(dim=-1)"
   ]
  },
  {
   "cell_type": "code",
   "execution_count": null,
   "metadata": {},
   "outputs": [
    {
     "data": {
      "text/plain": [
       "tensor(1.)"
      ]
     },
     "metadata": {},
     "output_type": "display_data"
    }
   ],
   "source": [
    "cm[0].sum()"
   ]
  },
  {
   "cell_type": "code",
   "execution_count": null,
   "metadata": {},
   "outputs": [
    {
     "data": {
      "text/plain": [
       "tensor(0.1197)"
      ]
     },
     "metadata": {},
     "output_type": "display_data"
    }
   ],
   "source": [
    "cm[:, 0].sum()"
   ]
  },
  {
   "attachments": {},
   "cell_type": "markdown",
   "metadata": {},
   "source": [
    "# 两组数据长度不相等"
   ]
  },
  {
   "cell_type": "code",
   "execution_count": 24,
   "metadata": {},
   "outputs": [],
   "source": [
    "preds2_ = torch.cat(\n",
    "    (\n",
    "        preds2,\n",
    "        torch.tensor([[0.05, 0.05, 0.05, 0.75, 0.05], [0.05, 0.05, 0.75, 0.05, 0.05]]),\n",
    "    ),\n",
    "    dim=0,\n",
    ")\n",
    "target2_ = torch.cat((target2, torch.tensor([3, 1])), dim=0)"
   ]
  },
  {
   "attachments": {},
   "cell_type": "markdown",
   "metadata": {},
   "source": [
    "## accuracy"
   ]
  },
  {
   "cell_type": "code",
   "execution_count": 25,
   "metadata": {},
   "outputs": [
    {
     "data": {
      "text/plain": [
       "tensor(0.6667)"
      ]
     },
     "execution_count": 25,
     "metadata": {},
     "output_type": "execute_result"
    }
   ],
   "source": [
    "# 两组数据不相等情况下的得分不能取平均值\n",
    "accuracy(preds=preds2_, target=target2_, task=\"multiclass\", num_classes=5, top_k=1)"
   ]
  },
  {
   "cell_type": "code",
   "execution_count": 26,
   "metadata": {},
   "outputs": [
    {
     "data": {
      "text/plain": [
       "0.625"
      ]
     },
     "execution_count": 26,
     "metadata": {},
     "output_type": "execute_result"
    }
   ],
   "source": [
    "(0.5 + 0.75) / 2"
   ]
  },
  {
   "cell_type": "code",
   "execution_count": 27,
   "metadata": {},
   "outputs": [
    {
     "data": {
      "text/plain": [
       "torch.Size([6, 5])"
      ]
     },
     "execution_count": 27,
     "metadata": {},
     "output_type": "execute_result"
    }
   ],
   "source": [
    "preds2_.shape"
   ]
  },
  {
   "cell_type": "code",
   "execution_count": null,
   "metadata": {},
   "outputs": [],
   "source": []
  }
 ],
 "metadata": {
  "kernelspec": {
   "display_name": "pytorch",
   "language": "python",
   "name": "python3"
  },
  "language_info": {
   "codemirror_mode": {
    "name": "ipython",
    "version": 3
   },
   "file_extension": ".py",
   "mimetype": "text/x-python",
   "name": "python",
   "nbconvert_exporter": "python",
   "pygments_lexer": "ipython3",
   "version": "3.10.11"
  },
  "orig_nbformat": 4
 },
 "nbformat": 4,
 "nbformat_minor": 2
}
